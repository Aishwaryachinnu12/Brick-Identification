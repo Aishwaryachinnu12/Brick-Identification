{
 "cells": [
  {
   "cell_type": "code",
   "execution_count": 13,
   "metadata": {},
   "outputs": [],
   "source": [
    "from keras.preprocessing.image import ImageDataGenerator, array_to_img, img_to_array, load_img\n",
    "\n",
    "data_gen = ImageDataGenerator(rotation_range = 40, \n",
    "                              width_shift_range = 0.05, \n",
    "                              height_shift_range = 0.05,  \n",
    "                              horizontal_flip = True)\n",
    "\n",
    "for f in listdir('Images'):\n",
    "    img_path = 'Images/' + str(f)\n",
    "    img = load_img(img_path)\n",
    "    x = img_to_array(img)\n",
    "    x = x.reshape((1,) + x.shape)\n",
    "\n",
    "    i=0\n",
    "    for batch in data_gen.flow(x, batch_size=1, save_to_dir = 'preview', save_prefix='b', save_format='jpeg'):\n",
    "        i+=1\n",
    "        if i>2:\n",
    "            break"
   ]
  },
  {
   "cell_type": "code",
   "execution_count": null,
   "metadata": {},
   "outputs": [],
   "source": []
  }
 ],
 "metadata": {
  "kernelspec": {
   "display_name": "tfenv",
   "language": "python",
   "name": "tfenv"
  },
  "language_info": {
   "codemirror_mode": {
    "name": "ipython",
    "version": 3
   },
   "file_extension": ".py",
   "mimetype": "text/x-python",
   "name": "python",
   "nbconvert_exporter": "python",
   "pygments_lexer": "ipython3",
   "version": "3.6.8"
  }
 },
 "nbformat": 4,
 "nbformat_minor": 4
}
